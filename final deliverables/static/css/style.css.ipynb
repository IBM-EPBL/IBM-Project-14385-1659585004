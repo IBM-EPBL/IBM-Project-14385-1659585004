{
  "metadata": {
    "language_info": {
      "codemirror_mode": {
        "name": "python",
        "version": 3
      },
      "file_extension": ".py",
      "mimetype": "text/x-python",
      "name": "python",
      "nbconvert_exporter": "python",
      "pygments_lexer": "ipython3",
      "version": "3.8"
    },
    "kernelspec": {
      "name": "python",
      "display_name": "Python (Pyodide)",
      "language": "python"
    }
  },
  "nbformat_minor": 4,
  "nbformat": 4,
  "cells": [
    {
      "cell_type": "raw",
      "source": "@import url(\"https://fonts.googleapis.com/css2?family=Poppins:wght@400;500;600;700&display=swap\");\nbody {\n  background: url(\"../images/bg-intro-mobile.png\"), #ff7a7a;\n  background-position: center;\n  background-repeat: repeat;\n  font-size: 1em;\n  font-family: \"Poppins\", sans-serif;\n}\n@media (min-width: 768px) {\n  body {\n    background: url(\"../images/bg-intro-desktop.png\"), #ff7a7a;\n    background-position: center;\n    background-repeat: repeat;\n  }\n}\n\n*, * *, *::after, *::before {\n  box-sizing: border-box;\n}\n\nmain {\n  min-height: 100vh;\n  max-width: min(100vw, 600px);\n  display: flex;\n  justify-content: center;\n  align-items: center;\n  flex-direction: column;\n  flex-wrap: nowrap;\n  margin-left: auto;\n  margin-right: auto;\n}\n@media (min-width: 768px) {\n  main {\n    max-width: min(90vw, 1000px);\n    flex-direction: row;\n    gap: 1em;\n  }\n  main > * {\n    width: 50%;\n  }\n}\n\n.content {\n  color: white;\n  text-align: center;\n  padding: 1em;\n}\n.content h1 {\n  line-height: 1.25em;\n}\n@media (min-width: 768px) {\n  .content {\n    text-align: left;\n    padding: 1.5em;\n    font-size: 0.9em;\n  }\n  .content h1 {\n    font-size: 2.5em;\n  }\n}\n\n.signup {\n  padding: 1em;\n  text-align: center;\n  display: flex;\n  gap: 1.5em;\n  flex-direction: column;\n  flex-wrap: nowrap;\n}\n\n.signup__pricing, .signup__form {\n  border-radius: 8px;\n}\n\n.signup__pricing {\n  box-shadow: 0px 0.45em 0px 0px #df6d6d;\n  background-color: #6055a5;\n  padding: 0.5em;\n  text-align: inherit;\n  color: white;\n  font-size: 0.8em;\n}\n\n.signup__form {\n  box-shadow: 0px 0.45em 0px 0px #df6d6d;\n  background-color: white;\n  padding: 1.5em;\n  position: relative;\n}\n.signup__form input {\n  width: 100%;\n  height: 3em;\n  padding: 0 1em;\n  margin-top: 0.9em;\n  font-family: inherit;\n  font-weight: bolder;\n}\n.signup__form input:not([type=submit]) {\n  border: 1px solid #e4e2e2;\n  border-radius: 4px;\n}\n.signup__form input + span.error-icon {\n  position: absolute;\n  right: 2.5em;\n  padding-top: 1.25em;\n}\n.signup__form input + span.error-icon img {\n  height: 1em;\n  width: 1em;\n}\n.signup__form input ~ span.error-message {\n  position: relative;\n  display: block;\n  width: 100%;\n  text-align: right;\n  padding-top: 0;\n  color: #ff7a7a;\n  font-size: 0.65em;\n  font-style: italic;\n  font-weight: 500;\n}\n.signup__form input.error {\n  border: 2px solid #ff7a7a;\n}\n\ninput[type=submit] {\n  box-shadow: 0px 0.3em 0px 0px #2fb179;\n  border: none;\n  border-radius: 4px;\n  background-color: #38cc8c;\n  text-transform: uppercase;\n  color: white;\n  font-weight: lighter;\n  letter-spacing: 1px;\n  padding-top: 6px;\n  cursor: pointer;\n}\ninput[type=submit]:hover {\n  box-shadow: 0px 0.3em 0px 0px #38cc8c;\n  background-color: #44e49f;\n}\n\n.terms-notice {\n  display: block;\n  margin-top: 1em;\n  padding: 0.5em;\n  font-size: 0.75em;\n  color: #b9b6d3;\n}\n.terms-notice span {\n  color: #ff7a7a;\n  font-weight: bolder;\n}\n\nfooter {\n  text-align: center;\n  color: white;\n  font-size: smaller;\n}\nfooter a {\n  color: inherit;\n}\n\n/*# sourceMappingURL=style.css.map */",
      "metadata": {}
    }
  ]
}