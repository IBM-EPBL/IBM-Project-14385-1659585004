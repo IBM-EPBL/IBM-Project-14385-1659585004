{
  "metadata": {
    "language_info": {
      "codemirror_mode": {
        "name": "python",
        "version": 3
      },
      "file_extension": ".py",
      "mimetype": "text/x-python",
      "name": "python",
      "nbconvert_exporter": "python",
      "pygments_lexer": "ipython3",
      "version": "3.8"
    },
    "kernelspec": {
      "name": "python",
      "display_name": "Python (Pyodide)",
      "language": "python"
    }
  },
  "nbformat_minor": 4,
  "nbformat": 4,
  "cells": [
    {
      "cell_type": "raw",
      "source": "\n<!DOCTYPE html>\n<html lang=\"en\">\n\n<head>\n    <meta charset=\"UTF-8\">\n    <meta name=\"viewport\" content=\"width=device-width, initial-scale=1.0\"> <!-- displays site properly based on user's device -->\n\n    <link rel=\"icon\" type=\"image/png\" sizes=\"32x32\" href=\"./images/favicon-32x32.png\">\n\n    <!-- CSS Stylesheets -->\n    <link rel=\"stylesheet\" href=\"static/css/styles.css\">\n\n    <!-- Google Fonts -->\n    <link href=\"https://fonts.googleapis.com/css2?family=Open+Sans:wght@400;700&family=Poppins&display=swap\" rel=\"stylesheet\">\n\n    <!-- Fonts Awesome -->\n    <script src=\"https://kit.fontawesome.com/f743791ba4.js\" crossorigin=\"anonymous\"></script>\n\n    <!-- Link to local file - Switch to link above on production ? -->\n    <!-- <link rel=\"stylesheet\" href=\"fontawesome/css/fontawesome.css\">\n    <link rel=\"stylesheet\" href=\"fontawesome/css/brands.css\">\n    <link rel=\"stylesheet\" href=\"fontawesome/css/solid.css\"> -->\n\n\n    <title>Smart Lender</title>\n\n</head>\n\n<body>\n\n<div class=\"page-container\">\n\n    <header class=\"header\">\n        <img class=\"logo-image\" src=\"static/images/loan.png\" alt=\"Logo Image\">\n    </header>\n\n\n    <main class=\"main\">\n\n        <div class=\"image-container\">\n\n            <img class=\"illustration\" src=\"static/images/loanhouse.png\" alt=\"Illustration MockUp Image\">\n\n        </div>\n\n        <div class=\"text-container\">\n\n            <h1 class=\"heading\">SMART LENDER</h1>\n            <h3>Applicant Credibility Prediction For Loan Approval</h3>\n\n            <p class=\"paragraph\">The prediction of credit defaulters is one of the difficult\n                tasks for any bank. Banks may reduce their loss by reducing their non-profit assets, so that recovery of approved loans can take place without any loss. Machine Learning techniques are very crucial and useful in the prediction of these types of data.</p>\n            <form action=\"/loan\" method=\"post\">\n<!--                <a class=\"button\" href=\"register\">Register</a>-->\n                <a class=\"button\" href=\"loan\">Dive in</a>\n            </form>\n\n\n        </div>\n\n    </main>\n\n</div> <!-- Closing page-container -->\n\n</body>\n\n</html>",
      "metadata": {}
    }
  ]
}