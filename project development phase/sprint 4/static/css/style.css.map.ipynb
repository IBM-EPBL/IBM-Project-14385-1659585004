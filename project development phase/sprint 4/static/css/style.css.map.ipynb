{
  "metadata": {
    "language_info": {
      "codemirror_mode": {
        "name": "python",
        "version": 3
      },
      "file_extension": ".py",
      "mimetype": "text/x-python",
      "name": "python",
      "nbconvert_exporter": "python",
      "pygments_lexer": "ipython3",
      "version": "3.8"
    },
    "kernelspec": {
      "name": "python",
      "display_name": "Python (Pyodide)",
      "language": "python"
    }
  },
  "nbformat_minor": 4,
  "nbformat": 4,
  "cells": [
    {
      "cell_type": "raw",
      "source": "{\"version\":3,\"sourceRoot\":\"\",\"sources\":[\"../sass/style.scss\"],\"names\":[],\"mappings\":\"AAAQ;AAoBR;EACI;EACI;EACA;EAIA;EACA;;AAGJ;EAXJ;IAYQ;IACI;IACA;;;;AAIZ;EACI;;;AAGJ;EACI;EACA;EACA;EACA;EACA;EAGI;EACA;EAIA;EACA;;AAGJ;EAjBJ;IAkBQ;IACA;IACA;;EAEA;IACI;;;;AAKZ;EACI;EACA;EACA;;AAEA;EACI;;AAGJ;EATJ;IAUQ;IACA;IACA;;EAEA;IACI;;;;AAKZ;EACI;EACA;EACA;EACA;EAEI;EACA;;;AAIR;EACI;;;AAGJ;EAxFI;EA2FA,kBArGG;EAsGH;EACA;EACA;EACA;;;AAGJ;EAlGI;EAqGA;EACA;EACA;;AAEA;EACI;EACA;EACA;EACA;EAEI;EACA;;AAIJ;EACI;EACA;;AAGJ;EACI;EACA;EACA;;AAEA;EACI;EACA;;AAIR;EACI;EACA;EACA;EACA;EACA;EACA,OAxJN;EA2JU;EACA;EACA;;AAIR;EACI;;;AAKZ;EAzJI;EA4JA;EACA;EACA,kBA3KI;EA4KJ;EACA;EACA;EACA;EACA;EACA;;AAEA;EAtKA;EAwKI;;;AAIR;EACI;EACA;EACA;EACA;EACA,OAvLW;;AAyLX;EACI,OAlMF;EAmME;;;AAIR;EACI;EACA;EACA;;AAEA;EACI\",\"file\":\"style.css\"}",
      "metadata": {}
    }
  ]
}