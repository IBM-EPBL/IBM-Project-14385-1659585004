{
  "metadata": {
    "language_info": {
      "codemirror_mode": {
        "name": "python",
        "version": 3
      },
      "file_extension": ".py",
      "mimetype": "text/x-python",
      "name": "python",
      "nbconvert_exporter": "python",
      "pygments_lexer": "ipython3",
      "version": "3.8"
    },
    "kernelspec": {
      "name": "python",
      "display_name": "Python (Pyodide)",
      "language": "python"
    }
  },
  "nbformat_minor": 4,
  "nbformat": 4,
  "cells": [
    {
      "cell_type": "raw",
      "source": "\n<!DOCTYPE html>\n<html lang=\"en\">\n<head>\n  <meta charset=\"UTF-8\">\n  <meta name=\"viewport\" content=\"width=device-width, initial-scale=1.0\">\n\n  <link rel=\"icon\" type=\"image/png\">\n  <link rel=\"stylesheet\" href=\"static/css/style.css\">\n\n  <title>Smart Lender</title>\n</head>\n<body>\n  <main>\n    <div class=\"content\">\n      <h1>SMART LENDER</h1>\n      <p>Applicant Credibility Prediction For Loan Approval</p>\n    </div>\n    <div class=\"signup\">\n      <div class=\"signup__pricing\">\n        <p><strong>Let me in!</strong></p>\n      </div>\n      <form action=\"/loan\" class=\"signup__form\" method=\"post\">\n        <input type=\"text\" name=\"first-name\" id=\"first-name\" aria-label=\"First Name\" placeholder=\"First Name\" required>\n        <input type=\"text\" name=\"last-name\" id=\"last-name\" aria-label=\"Last Name\" placeholder=\"Last Name\" required>\n        <input type=\"email\" name=\"email\" id=\"email\" aria-label=\"Email Address\" placeholder=\"Email Address\" required>\n\n\n        <a class=\"button\" href=\"loan\">Register</a>\n\n      </form>\n    </div>\n  </main>\n</body>\n<script src=\"js/validation.js\"></script>\n</html>",
      "metadata": {}
    }
  ]
}