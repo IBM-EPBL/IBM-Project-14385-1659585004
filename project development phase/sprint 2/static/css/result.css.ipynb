{
  "metadata": {
    "language_info": {
      "codemirror_mode": {
        "name": "python",
        "version": 3
      },
      "file_extension": ".py",
      "mimetype": "text/x-python",
      "name": "python",
      "nbconvert_exporter": "python",
      "pygments_lexer": "ipython3",
      "version": "3.8"
    },
    "kernelspec": {
      "name": "python",
      "display_name": "Python (Pyodide)",
      "language": "python"
    }
  },
  "nbformat_minor": 4,
  "nbformat": 4,
  "cells": [
    {
      "cell_type": "raw",
      "source": "* { box-sizing: border-box; }\n@import url('https://fonts.googleapis.com/css?family=Rubik:400,500&display=swap');\n\nbody {\n  font-family: 'Rubik', sans-serif;\n\n}\n\n.container {\n  display: flex;\n  /* height: 100vh; */\n}\n\n.left {\n  overflow: hidden;\n  display: flex;\n  flex-wrap: wrap;\n  flex-direction: column;\n  justify-content: center;\n  /* animation-name: left;\n  animation-duration: 1s;\n  animation-fill-mode: both;\n  animation-delay: 1s; */\n}\n\n.right {\n  flex: 1;\n\n  /* transition: 1s; */\n  background-image: url(\"../images/piggy-bank.jpg\");\n  background-size: auto;\n  background-repeat: no-repeat;\n  background-position: center;\n}\n\n\n\n.header > h2 {\n  margin: 0;\n  color: #4f46a5;\n}\n\n.header > h4 {\n  margin-top: 10px;\n  font-weight: normal;\n  font-size: 15px;\n  color: rgba(0,0,0,.4);\n}\n\n.form {\n  max-width: 80%;\n  display: flex;\n  flex-direction: column;\n}\n\n.form > p {\n  text-align: right;\n}\n\n.form > p > a {\n  color: #000;\n  font-size: 14px;\n}\n\n.form-field {\n  height: 36px;\n  padding: 0 0x;\n  border: 2px solid #ddd;\n  border-radius: 4px;\n  font-family: 'Rubik', sans-serif;\n  outline: 0;\n  transition: .2s;\n  margin-top: 0px;\n\n}\n\n.form-field:focus {\n  border-color: #0f7ef1;\n}\n\n.form > button {\n  padding: 12px 10px;\n  border: 0;\n  background: linear-gradient(to right, #de48b5 0%,#0097ff 100%); \n  border-radius: 3px;\n  margin-top: 10px;\n  color: #fff;\n  letter-spacing: 1px;\n  font-family: 'Rubik', sans-serif;\n}\n\nimg{\n    width: 100px;\n}\nbutton:hover{\n    cursor: pointer;\n}",
      "metadata": {}
    }
  ]
}