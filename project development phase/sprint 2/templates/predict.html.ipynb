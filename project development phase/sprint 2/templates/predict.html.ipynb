{
  "metadata": {
    "language_info": {
      "codemirror_mode": {
        "name": "python",
        "version": 3
      },
      "file_extension": ".py",
      "mimetype": "text/x-python",
      "name": "python",
      "nbconvert_exporter": "python",
      "pygments_lexer": "ipython3",
      "version": "3.8"
    },
    "kernelspec": {
      "name": "python",
      "display_name": "Python (Pyodide)",
      "language": "python"
    }
  },
  "nbformat_minor": 4,
  "nbformat": 4,
  "cells": [
    {
      "cell_type": "raw",
      "source": "<html>\n    <head>\n        <link rel=\"stylesheet\" href=\"static/css/result.css\">\n    </head>\n    <body class=\"predict-page\">\n        <form action=\"/submit\" method=\"post\">\n        <div class=\"container\">\n            <div class=\"left\">\n              <div class=\"header\">\n                <h2 class=\"animation a1\">Predict Your Elgibility</h2>\n                <p></p>\n              </div>\n              <div class=\"form\">\n                <label>Gender</label>\n                <select name=\"query1\" class=\"form-field animation a3\">\n                    <option value=\"none\" selected disabled hidden></option>\n                    <option value=\"Male\">Male</option>\n                    <option value=\"Female\">Female</option>\n                </select><br><br>\n\n                    <label>Married</label><br>\n                    <select name=\"query2\" class=\"form-field animation a3 \">\n                        <option value=\"none\" selected disabled hidden></option>\n                        <option value=\"Yes\">Yes</option>\n                        <option value=\"No\">No</option>\n                    </select><br><br>\n\n                    <label>Dependents</label><br>\n\n                    <select name=\"query3\" class=\"form-field animation a3\">\n                        <option value=\"none\" selected disabled hidden></option>\n                        <option value=\"0\">0</option>\n                        <option value=\"1\">1</option>\n                        <option value=\"2\">2</option>\n                        <option value=\"3\">3+</option>\n                    </select><br><br>\n                    <label>Education</label><br>\n                    <select name=\"query4\" class=\"form-field animation a3\">\n                        <option value=\"none\" selected disabled hidden></option>\n                        <option value=\"Graduate\">Graduate</option>\n                        <option value=\"Not Graduate\">Not Graduate</option>\n                    </select><br><br>\n\n                    <label>Self Employed</label><br>\n                    <select name=\"query5\" class=\"form-field animation a3\">\n                        <option value=\"none\" selected disabled hidden></option>\n                        <option value=\"Yes\">Yes</option>\n                        <option value=\"No\">No</option>\n                    </select><br><br>\n\n                    <label>Applicant Income</label><br>\n                    <input type=\"text\" name=\"query6\" class=\"form-field animation a3\" required><br><br>\n\n                    <label>Coapplicant Income</label><br>\n                    <input type=\"text\" name=\"query7\" class=\"form-field animation a3\" required><br><br>\n\n                    <label>Loan Amount</label><br>\n                    <input type=\"text\" name=\"query8\" class=\"form-field animation a3\" required><br><br>\n\n                    <label>Loan Amount Term</label><br>\n                    <select name=\"query9\" class=\"form-field animation a3\">\n                        <option value=\"none\" selected disabled hidden></option>\n                        <option value=\"12\">12</option>\n                        <option value=\"36\">36</option>\n                        <option value=\"60\">60</option>\n                        <option value=\"84\">84</option>\n                        <option value=\"120\">120</option>\n                        <option value=\"180\">180</option>\n                        <option value=\"240\">240</option>\n                        <option value=\"300\">300</option>\n                        <option value=\"360\">360</option>\n                        <option value=\"480\">480</option>\n                    </select><br><br>\n\n                    <label>Credit history</label><br>\n                    <select name=\"query10\" class=\"form-field animation a3\">\n                        <option value=\"none\" selected disabled hidden></option>\n                        <option value=\"0\">0</option>\n                        <option value=\"1\">1</option>\n                    </select><br><br>\n                    <label>Property area</label><br>\n                    <select name=\"query11\" class=\"form-field animation a3\">\n                        <option value=\"none\" selected disabled hidden></option>\n                        <option value=\"Urban\">Urban</option>\n                        <option value=\"Rural\">Rural</option>\n                        <option value=\"Semiurban\">Semi Urban</option>\n                    </select><br><br>\n                    <button type=\"submit\" class=\"sub\">Submit</button>\n<!--                    <a href = \"mailto: bhavoffl@gmail.com\">Send Email</a>-->\n              </div>\n            </div>\n            <div class=\"right\">\n<!--                <img src=\"static/images/piggy-bank.jpg\">-->\n            </div>\n          </div>\n        </form>\n    </body>\n</html>\n",
      "metadata": {}
    }
  ]
}