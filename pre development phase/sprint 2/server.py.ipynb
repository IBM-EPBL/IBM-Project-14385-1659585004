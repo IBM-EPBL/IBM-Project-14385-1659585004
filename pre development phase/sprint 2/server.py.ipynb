{
  "metadata": {
    "language_info": {
      "codemirror_mode": {
        "name": "python",
        "version": 3
      },
      "file_extension": ".py",
      "mimetype": "text/x-python",
      "name": "python",
      "nbconvert_exporter": "python",
      "pygments_lexer": "ipython3",
      "version": "3.8"
    },
    "kernelspec": {
      "name": "python",
      "display_name": "Python (Pyodide)",
      "language": "python"
    }
  },
  "nbformat_minor": 4,
  "nbformat": 4,
  "cells": [
    {
      "cell_type": "raw",
      "source": "import pandas as pd\nfrom flask import Flask, request, render_template, jsonify\nimport pickle\nfrom sklearn import preprocessing\nimport smtplib\n# my_email = \"bhavuuu7@gmail.com\"\n# my_password = \"isang_saram_123\"\n# subject = \"HAPPY BIRTHDAY!!!!\"\n\napp = Flask(__name__)\nmodel = pickle.load(open(r'model3.pkl', 'rb'))\n\n\n@app.route('/', methods=['GET', 'POST'])\ndef home():\n    return render_template('home.html')\n\n# @app.route('/register', methods=['GET', 'POST'])\n# def register():\n#\n#     return render_template('register.html')\n\n# @app.route('/loan', methods=['GET', 'POST'])\n# def loan():\n#\n#     return render_template('loan.html')\n\n\n@app.route('/predict', methods=['GET', 'POST'])\ndef predict():\n    return render_template(\"predict.html\")\n\n\n@app.route('/submit', methods=['GET', 'POST'])\ndef submit():\n    gender = request.form['query1']\n    married = request.form['query2']\n    dependents = request.form['query3']\n    education = request.form['query4']\n    self_employed = request.form['query5']\n    applicant_income = request.form['query6']\n    coapplicant_income = request.form['query7']\n    loan_amount = request.form['query8']\n    loan_amt_term = request.form['query9']\n    credit_history = request.form['query10']\n    property_area = request.form['query11']\n\n    input_feature = [[gender, married, dependents, education, self_employed, applicant_income, coapplicant_income,\n                      loan_amount, loan_amt_term, credit_history, property_area]]\n\n    print(input_feature)\n    names = ['Gender', 'Married', 'Dependents', 'Education', 'Self_Employed', 'ApplicantIncome', 'CoapplicantIncome',\n             'LoanAmount', 'Loan_Amount_Term', 'Credit_History', 'Property_Area']\n    data = pd.DataFrame(input_feature, columns=names)\n\n    new_df = data.copy()\n    label_encoder = preprocessing.LabelEncoder()\n    label_encoding_columns = ['Gender', 'Married', 'Dependents', 'Education', 'Self_Employed', 'Property_Area']\n    for col in label_encoding_columns:\n        new_df[col] = label_encoder.fit_transform(new_df[col])\n\n    prediction = model.predict(new_df)\n    print(prediction)\n    prediction = int(prediction)\n\n\n    # name = request.form['first-name']\n    # lname = request.form['last-name']\n    # recipient = request.form['email']\n    # print(name)\n\n    # if prediction == 0:\n    #     bday_letter = f\"{name} Congratulations! Your loan will be approved\"\n    # else:\n    #     bday_letter = f\"{lname} Congratulations! Your loan will be approved\"\n    #\n    # with smtplib.SMTP(host=\"smtp.gmail.com\") as connection:\n    #     connection.starttls()\n    #     connection.login(my_email, my_password)\n    #     connection.sendmail(from_addr=my_email, to_addrs=recipient,\n    #                         msg=\"Subject:\" + subject + \"\\n\\n\" +bday_letter)\n\n\n    if prediction == 0:\n        return render_template(\"submit.html\", result=\"Loan will not be approved\")\n    else:\n        return render_template(\"submit.html\", result=\"Loan will be approved\")\n\n\nif __name__ == \"__main__\":\n    app.run(debug=True)",
      "metadata": {}
    }
  ]
}