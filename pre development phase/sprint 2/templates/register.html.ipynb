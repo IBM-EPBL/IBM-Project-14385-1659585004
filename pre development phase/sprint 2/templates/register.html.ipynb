{
  "metadata": {
    "language_info": {
      "codemirror_mode": {
        "name": "python",
        "version": 3
      },
      "file_extension": ".py",
      "mimetype": "text/x-python",
      "name": "python",
      "nbconvert_exporter": "python",
      "pygments_lexer": "ipython3",
      "version": "3.8"
    },
    "kernelspec": {
      "name": "python",
      "display_name": "Python (Pyodide)",
      "language": "python"
    }
  },
  "nbformat_minor": 4,
  "nbformat": 4,
  "cells": [
    {
      "cell_type": "raw",
      "source": "\n<!DOCTYPE html>\n<html lang=\"en\">\n<head>\n  <meta charset=\"UTF-8\">\n  <meta name=\"viewport\" content=\"width=device-width, initial-scale=1.0\">\n\n  <link rel=\"icon\" type=\"image/png\" sizes=\"32x32\" href=\"static/images/favicon-32x32.png\">\n  <link rel=\"stylesheet\" href=\"static/css/style.css\">\n\n  <title>Frontend Mentor | Intro component with sign up form</title>\n</head>\n<body>\n  <main>\n    <div class=\"content\">\n      <h1>Learn to code by watching others</h1>\n      <p>See how experienced developers solve problems in real-time. Watching scripted tutorials is great,\n  but understanding how developers think is invaluable.</p>\n    </div>\n    <div class=\"signup\">\n      <div class=\"signup__pricing\">\n        <p><strong>Try it free 7 days</strong> then $20/mo. thereafter</p>\n      </div>\n      <form action=\"/loan\" class=\"signup__form\" method=\"post\">\n        <input type=\"text\" name=\"first-name\" id=\"first-name\" aria-label=\"First Name\" placeholder=\"First Name\" required>\n        <input type=\"text\" name=\"last-name\" id=\"last-name\" aria-label=\"Last Name\" placeholder=\"Last Name\" required>\n        <input type=\"email\" name=\"email\" id=\"email\" aria-label=\"Email Address\" placeholder=\"Email Address\" required>\n        <input type=\"submit\" value=\"Claim your free trial\" aria-label=\"Submit\">\n\n        <a class=\"button\" href=\"loan\">Register</a>\n\n      </form>\n    </div>\n  </main>\n  <footer>\n    <p class=\"attribution\">\n      Challenge by <a href=\"https://www.frontendmentor.io?ref=challenge\" target=\"_blank\">Frontend Mentor</a>.\n      Coded by <a href=\"https://www.frontendmentor.io/profile/rngueco\">Riyana Gueco</a>.\n    </p>\n  </footer>\n</body>\n<script src=\"js/validation.js\"></script>\n</html>",
      "metadata": {}
    }
  ]
}