{
  "metadata": {
    "language_info": {
      "codemirror_mode": {
        "name": "python",
        "version": 3
      },
      "file_extension": ".py",
      "mimetype": "text/x-python",
      "name": "python",
      "nbconvert_exporter": "python",
      "pygments_lexer": "ipython3",
      "version": "3.8"
    },
    "kernelspec": {
      "name": "python",
      "display_name": "Python (Pyodide)",
      "language": "python"
    }
  },
  "nbformat_minor": 4,
  "nbformat": 4,
  "cells": [
    {
      "cell_type": "raw",
      "source": ".home-page{\n     background-image: url(\"../images/loan.jpg\");\n     background-size: 100%;\n     background-repeat: no-repeat;\n     color: white;\n}\n.predict-page{\n    background-image: url(\"../images/piggy-bank.jpg\");\n    background-size: 100%;\n    background-repeat: no-repeat;\n}\n\n.submit-h1{\n  margin: 5%;\n  font-weight: bold;\n  color: Crimson;\n  background-color: #ffffff;\n  opacity: 0.7;\n}\n.submit-page{\n    background-image: url(\"../images/result.jpg\");\n    background-size: cover;\n    background-repeat: no-repeat;\n}\n.place-center{\n    text-align: center;\n    color: crimson;\n    font-size: 80px;\n}\n\nlabel{\n    padding-left: 1%;\n    color: white;\n}\n\ninput, button{\n    margin: 0.5% 3%;\n}\n.input-value{\n    margin: 0.5% 3%;\n}\nselect{\n    width: 170px;\n}",
      "metadata": {}
    }
  ]
}