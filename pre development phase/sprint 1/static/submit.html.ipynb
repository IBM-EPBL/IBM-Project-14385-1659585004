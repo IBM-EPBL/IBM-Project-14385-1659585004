{
  "metadata": {
    "language_info": {
      "codemirror_mode": {
        "name": "python",
        "version": 3
      },
      "file_extension": ".py",
      "mimetype": "text/x-python",
      "name": "python",
      "nbconvert_exporter": "python",
      "pygments_lexer": "ipython3",
      "version": "3.8"
    },
    "kernelspec": {
      "name": "python",
      "display_name": "Python (Pyodide)",
      "language": "python"
    }
  },
  "nbformat_minor": 4,
  "nbformat": 4,
  "cells": [
    {
      "cell_type": "raw",
      "source": "<!DOCTYPE html>\n<html>\n\n<head>\n  <meta charset=\"utf-8\">\n  <meta name=\"viewport\" content=\"width=device-width\">\n  <title>Prediction</title>\n  <link rel=\"stylesheet\" href=\"static/css/styles.css\">\n</head>\n\n<body class=\"submit-page\">\n\n  <h1 class=\"place-center submit-h1\">{{ result }}</h1>\n\n\n  <script src=\"script.js\"></script>\n\n</body>\n\n</html>",
      "metadata": {}
    }
  ]
}