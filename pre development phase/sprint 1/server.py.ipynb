{
  "metadata": {
    "language_info": {
      "codemirror_mode": {
        "name": "python",
        "version": 3
      },
      "file_extension": ".py",
      "mimetype": "text/x-python",
      "name": "python",
      "nbconvert_exporter": "python",
      "pygments_lexer": "ipython3",
      "version": "3.8"
    },
    "kernelspec": {
      "name": "python",
      "display_name": "Python (Pyodide)",
      "language": "python"
    }
  },
  "nbformat_minor": 4,
  "nbformat": 4,
  "cells": [
    {
      "cell_type": "raw",
      "source": "import pandas as pd\nfrom flask import Flask, request, render_template\nimport pickle\nfrom sklearn import preprocessing\n\napp = Flask(__name__)\nmodel = pickle.load(open(r'model3.pkl', 'rb'))\n\n\n@app.route('/')\ndef home():\n    return render_template('home.html')\n\n\n@app.route('/predict', methods=['POST'])\ndef predict():\n    return render_template(\"predict.html\")\n\n\n@app.route('/submit', methods=['GET', 'POST'])\ndef submit():\n    gender = request.form['query1']\n    married = request.form['query2']\n    dependents = request.form['query3']\n    education = request.form['query4']\n    self_employed = request.form['query5']\n    applicant_income = request.form['query6']\n    coapplicant_income = request.form['query7']\n    loan_amount = request.form['query8']\n    loan_amt_term = request.form['query9']\n    credit_history = request.form['query10']\n    property_area = request.form['query11']\n\n    input_feature = [[gender, married, dependents, education, self_employed, applicant_income, coapplicant_income,\n                      loan_amount, loan_amt_term, credit_history, property_area]]\n\n    print(input_feature)\n    names = ['Gender', 'Married', 'Dependents', 'Education', 'Self_Employed', 'ApplicantIncome', 'CoapplicantIncome',\n             'LoanAmount', 'Loan_Amount_Term', 'Credit_History', 'Property_Area']\n    data = pd.DataFrame(input_feature, columns=names)\n\n    new_df = data.copy()\n    label_encoder = preprocessing.LabelEncoder()\n    label_encoding_columns = ['Gender', 'Married', 'Dependents', 'Education', 'Self_Employed', 'Property_Area']\n    for col in label_encoding_columns:\n        new_df[col] = label_encoder.fit_transform(new_df[col])\n\n    prediction = model.predict(new_df)\n    print(prediction)\n    prediction = int(prediction)\n\n    if prediction == 0:\n        return render_template(\"submit.html\", result=\"Loan will not be approved\")\n    else:\n        return render_template(\"submit.html\", result=\"Loan will be approved\")\n\n\nif __name__ == \"__main__\":\n    app.run(debug=True)",
      "metadata": {}
    }
  ]
}